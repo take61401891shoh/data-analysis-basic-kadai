{
  "nbformat": 4,
  "nbformat_minor": 0,
  "metadata": {
    "colab": {
      "provenance": []
    },
    "kernelspec": {
      "name": "python3",
      "display_name": "Python 3"
    },
    "language_info": {
      "name": "python"
    }
  },
  "cells": [
    {
      "cell_type": "code",
      "execution_count": 11,
      "metadata": {
        "colab": {
          "base_uri": "https://localhost:8080/"
        },
        "id": "hCP11QdMpKkM",
        "outputId": "3429502a-0b3e-4091-a289-60470568ccc6"
      },
      "outputs": [
        {
          "output_type": "stream",
          "name": "stdout",
          "text": [
            "2つの行列の積、計算結果は以下になります。\n",
            "[[ 4  5  6  7]\n",
            " [12 17 22 27]\n",
            " [20 29 38 47]]\n",
            "\n",
            "最大値は47です。\n"
          ]
        }
      ],
      "source": [
        "#Numpyの読み込み\n",
        "import numpy as np\n",
        "\n",
        "#2つの行列を格納する多次元配列のコードを記入\n",
        "A = np.array([[0,1], [2,3], [4,5]])\n",
        "B = np.array([[0,1,2,3], [4,5,6,7]])\n",
        "\n",
        "#2つの行列の積を計算\n",
        "np.dot(A, B)\n",
        "\n",
        "#計算結果を表示するコードを記入\n",
        "print(f'2つの行列の積、計算結果は以下になります。\\n{np.dot(A,B)}\\n')\n",
        "\n",
        "#行列の要素の最大値を求めるコードを記入\n",
        "a = np.dot(A, B)\n",
        "np.max(a)\n",
        "print(f'最大値は{np.max(a)}です。')"
      ]
    }
  ]
}